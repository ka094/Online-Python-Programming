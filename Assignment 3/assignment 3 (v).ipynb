{
 "cells": [
  {
   "cell_type": "code",
   "execution_count": 3,
   "id": "3ea23111",
   "metadata": {},
   "outputs": [],
   "source": [
    "# Write a Python program which accepts the user's first and last name and print them in\n",
    "#reverse order with a space between them\n"
   ]
  },
  {
   "cell_type": "code",
   "execution_count": 6,
   "id": "8562be5d",
   "metadata": {},
   "outputs": [
    {
     "name": "stdout",
     "output_type": "stream",
     "text": [
      "Input your First Name : Kanwal\n",
      "Input your Last Name : Aftab\n",
      "Aftab Kanwal\n"
     ]
    }
   ],
   "source": [
    "fn = input(\"Input your First Name : \")\n",
    "ln = input(\"Input your Last Name : \")\n",
    "print (ln + \" \" + fn)"
   ]
  },
  {
   "cell_type": "code",
   "execution_count": null,
   "id": "27fc801a",
   "metadata": {},
   "outputs": [],
   "source": []
  },
  {
   "cell_type": "code",
   "execution_count": null,
   "id": "121185eb",
   "metadata": {},
   "outputs": [],
   "source": []
  }
 ],
 "metadata": {
  "kernelspec": {
   "display_name": "Python 3",
   "language": "python",
   "name": "python3"
  },
  "language_info": {
   "codemirror_mode": {
    "name": "ipython",
    "version": 3
   },
   "file_extension": ".py",
   "mimetype": "text/x-python",
   "name": "python",
   "nbconvert_exporter": "python",
   "pygments_lexer": "ipython3",
   "version": "3.8.8"
  }
 },
 "nbformat": 4,
 "nbformat_minor": 5
}
