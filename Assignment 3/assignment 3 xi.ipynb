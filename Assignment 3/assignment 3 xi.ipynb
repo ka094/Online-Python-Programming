{
 "cells": [
  {
   "cell_type": "code",
   "execution_count": 1,
   "id": "8ccac29b",
   "metadata": {},
   "outputs": [],
   "source": [
    "#11.Write a Python program to get the largest number from a numeric list."
   ]
  },
  {
   "cell_type": "code",
   "execution_count": 2,
   "id": "885c9e7b",
   "metadata": {},
   "outputs": [
    {
     "name": "stdout",
     "output_type": "stream",
     "text": [
      "How many numbers: 12\n",
      "Enter number 3\n",
      "Enter number 4\n",
      "Enter number 5\n",
      "Enter number 66\n",
      "Enter number 33\n",
      "Enter number 56\n",
      "Enter number 90\n",
      "Enter number 2\n",
      "Enter number 44\n",
      "Enter number 98\n",
      "Enter number 220\n",
      "Enter number 33\n",
      "Maximum element in the list is : 220\n"
     ]
    }
   ],
   "source": [
    "lst = []\n",
    " \n",
    "num = int(input('How many numbers: '))\n",
    " \n",
    "for n in range(num):\n",
    "    numbers = int(input('Enter number '))\n",
    "    lst.append(numbers)\n",
    "     \n",
    "print(\"Maximum element in the list is :\", max(lst))\n"
   ]
  },
  {
   "cell_type": "code",
   "execution_count": null,
   "id": "f57b7547",
   "metadata": {},
   "outputs": [],
   "source": []
  }
 ],
 "metadata": {
  "kernelspec": {
   "display_name": "Python 3",
   "language": "python",
   "name": "python3"
  },
  "language_info": {
   "codemirror_mode": {
    "name": "ipython",
    "version": 3
   },
   "file_extension": ".py",
   "mimetype": "text/x-python",
   "name": "python",
   "nbconvert_exporter": "python",
   "pygments_lexer": "ipython3",
   "version": "3.8.8"
  }
 },
 "nbformat": 4,
 "nbformat_minor": 5
}
