{
 "cells": [
  {
   "cell_type": "code",
   "execution_count": 1,
   "id": "b97b9b00",
   "metadata": {},
   "outputs": [
    {
     "name": "stdout",
     "output_type": "stream",
     "text": [
      "Write a python program which takes two inputs from user and print them addition\n"
     ]
    }
   ],
   "source": [
    "print(\"Write a python program which takes two inputs from user and print them addition\")"
   ]
  },
  {
   "cell_type": "code",
   "execution_count": 1,
   "id": "ac29c816",
   "metadata": {},
   "outputs": [
    {
     "name": "stdout",
     "output_type": "stream",
     "text": [
      "Input your 1st num =   5\n",
      "Input your 2nd num =   8\n",
      "Sum of given num is =  13.0\n"
     ]
    }
   ],
   "source": [
    "num1 =input(\"Input your 1st num =   \")\n",
    "num2 =input(\"Input your 2nd num =   \")\n",
    "sum =float(num1) + float(num2)\n",
    "print (\"Sum of given num is = \", sum)"
   ]
  },
  {
   "cell_type": "code",
   "execution_count": null,
   "id": "f3947d19",
   "metadata": {},
   "outputs": [],
   "source": []
  },
  {
   "cell_type": "code",
   "execution_count": null,
   "id": "ab5ab603",
   "metadata": {},
   "outputs": [],
   "source": []
  }
 ],
 "metadata": {
  "kernelspec": {
   "display_name": "Python 3",
   "language": "python",
   "name": "python3"
  },
  "language_info": {
   "codemirror_mode": {
    "name": "ipython",
    "version": 3
   },
   "file_extension": ".py",
   "mimetype": "text/x-python",
   "name": "python",
   "nbconvert_exporter": "python",
   "pygments_lexer": "ipython3",
   "version": "3.8.8"
  }
 },
 "nbformat": 4,
 "nbformat_minor": 5
}
