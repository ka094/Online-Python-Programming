{
 "cells": [
  {
   "cell_type": "code",
   "execution_count": 1,
   "id": "d5f429be",
   "metadata": {},
   "outputs": [],
   "source": [
    "#Write a program which print the length of the list?"
   ]
  },
  {
   "cell_type": "code",
   "execution_count": 2,
   "id": "975dc820",
   "metadata": {},
   "outputs": [
    {
     "name": "stdout",
     "output_type": "stream",
     "text": [
      "The length of list is:  4\n"
     ]
    }
   ],
   "source": [
    "a = []\n",
    "a.append(\"My\")\n",
    "a.append(\"Name\")\n",
    "a.append(\"is \")\n",
    "a.append(\"Kanwal\")\n",
    "print(\"The length of list is: \", len(a))"
   ]
  },
  {
   "cell_type": "code",
   "execution_count": null,
   "id": "548663bb",
   "metadata": {},
   "outputs": [],
   "source": []
  }
 ],
 "metadata": {
  "kernelspec": {
   "display_name": "Python 3",
   "language": "python",
   "name": "python3"
  },
  "language_info": {
   "codemirror_mode": {
    "name": "ipython",
    "version": 3
   },
   "file_extension": ".py",
   "mimetype": "text/x-python",
   "name": "python",
   "nbconvert_exporter": "python",
   "pygments_lexer": "ipython3",
   "version": "3.8.8"
  }
 },
 "nbformat": 4,
 "nbformat_minor": 5
}
