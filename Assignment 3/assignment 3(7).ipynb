{
 "cells": [
  {
   "cell_type": "code",
   "execution_count": 1,
   "id": "af54b8a6",
   "metadata": {},
   "outputs": [],
   "source": [
    "#Write a program which takes 5 inputs from user for different subject’s marks, total it\n",
    "#and generate mark sheet using grades "
   ]
  },
  {
   "cell_type": "code",
   "execution_count": 7,
   "id": "c8b7a6d4",
   "metadata": {},
   "outputs": [
    {
     "name": "stdout",
     "output_type": "stream",
     "text": [
      "Please enter English Marks: 98\n",
      "Please enter Math score: 99\n",
      "Please enter Computer Marks: 87\n",
      "Please enter Physics Marks: 78\n",
      "Please enter Chemistry Marks: 90\n",
      "\n",
      "Total Marks =452.00  \n",
      "Average Marks = 90.40\n",
      "Marks Percentage = 90.40\n"
     ]
    }
   ],
   "source": [
    "  \n",
    "eng = float(input(\"Please enter English Marks: \"))\n",
    "math = float(input(\"Please enter Math score: \"))\n",
    "computers = float(input(\"Please enter Computer Marks: \"))\n",
    "physics = float(input(\"Please enter Physics Marks: \"))\n",
    "chemistry = float(input(\"Please enter Chemistry Marks: \"))\n",
    " \n",
    "total = eng + math + computers + physics + chemistry\n",
    "average = total / 5\n",
    "percentage = (total / 500) * 100\n",
    " \n",
    "print(\"\\nTotal Marks =%.2f  \"  %total)\n",
    "print(\"Average Marks = %.2f\"  %average)\n",
    "print(\"Marks Percentage = %.2f\"  %percentage)\n"
   ]
  },
  {
   "cell_type": "code",
   "execution_count": null,
   "id": "d7ab582b",
   "metadata": {},
   "outputs": [],
   "source": []
  },
  {
   "cell_type": "code",
   "execution_count": null,
   "id": "e4547ae1",
   "metadata": {},
   "outputs": [],
   "source": []
  }
 ],
 "metadata": {
  "kernelspec": {
   "display_name": "Python 3",
   "language": "python",
   "name": "python3"
  },
  "language_info": {
   "codemirror_mode": {
    "name": "ipython",
    "version": 3
   },
   "file_extension": ".py",
   "mimetype": "text/x-python",
   "name": "python",
   "nbconvert_exporter": "python",
   "pygments_lexer": "ipython3",
   "version": "3.8.8"
  }
 },
 "nbformat": 4,
 "nbformat_minor": 5
}
